{
 "cells": [
  {
   "cell_type": "markdown",
   "metadata": {},
   "source": [
    "<h1 align = 'center'>Neural Networks</h1>"
   ]
  },
  {
   "cell_type": "markdown",
   "metadata": {},
   "source": [
    "<h3> No space for theory here, lets jump right into coding.</h3>\n",
    "</br>\n",
    "<h3>What do we actually need?</h3>\n",
    ". Python 3.x\n",
    ". Numpy\n",
    ". Matplotlib\n",
    ". Tensorflow 1.12\n",
    ". Keras 2.1.3\n",
    ". Opencv\n"
   ]
  },
  {
   "cell_type": "code",
   "execution_count": 2,
   "metadata": {},
   "outputs": [
    {
     "name": "stderr",
     "output_type": "stream",
     "text": [
      "C:\\ProgramData\\Anaconda3\\lib\\site-packages\\h5py\\__init__.py:34: FutureWarning: Conversion of the second argument of issubdtype from `float` to `np.floating` is deprecated. In future, it will be treated as `np.float64 == np.dtype(float).type`.\n",
      "  from ._conv import register_converters as _register_converters\n",
      "Using TensorFlow backend.\n"
     ]
    },
    {
     "name": "stdout",
     "output_type": "stream",
     "text": [
      "tensorflow: 1.12.0\n",
      "keras: 2.1.3\n"
     ]
    }
   ],
   "source": [
    "#Import dependencies\n",
    "import tensorflow as tf\n",
    "import keras\n",
    "import numpy as np\n",
    "import matplotlib.pyplot as plt\n",
    "import cv2\n",
    "import csv\n",
    "\n",
    "print('tensorflow:', tf.__version__)\n",
    "print('keras:', keras.__version__)"
   ]
  },
  {
   "cell_type": "markdown",
   "metadata": {},
   "source": [
    "<h3> Data Collection</h3>\n",
    "The data we have is on png format, each of them is 32 by 32 pixel and is publicly available by Computer Vision Research Group Nepal. There are total 92000 examles. Each character have 2000 examples and 300 of them is separated as test data. The data we have is separated on folders test and train and within it, are folders for each character.<br><br>\n",
    "<h3> Data Analysis</h3>\n",
    "Each of the image have 2 pixels margin on the border and are on grayscale. \n",
    "<h3> Data Manipulation</h3>\n",
    "Next we will use opencv library to open the each images inside those set. Opencv's Imread method will work fine and we will open it on grayscale format. Then we convert it into numpy array of size (1, 1025) where 1024 elements will be pixels and first element will be the label of that character. The labeling is done in a order that 0 for 0 and 10 for 'ka' and 45 for 'gya'. Then we create a csv file where we insert all example in rowise.<br>\n",
    "The reason for doing this is that, it will not be an appropriate idea to use image every time but creating a single file holding image information will be great time saving idea in future.\n",
    "<h3>System Design</h3>\n",
    "Lets just say it a module design. Using keras we will be creating simple model that can easily classify our examples. We will be using <b>Feedforward and Convolutional Neural Networks</b>. \n",
    "<h3>System Development</h3>\n",
    "We have 4 architectures for this project. One is FFNN and other are CNN. The key difference between these architectures are:\n",
    "1. FFNN does faster computation than CNN,\n",
    "2. FFNN usually requires the higher learning parameters than CNN,\n",
    "3. CNN gives best accuracy and helps to avoid overfitting on extreme cases,\n",
    "4. FFNN is less applicable for image classification than CNN\n",
    "\n",
    "<img src = 'ffn.png'/><br>\n",
    "fig: Feedforward NN\n",
    "<br>\n",
    "<img src = 'cnn.jpg'/><br>\n",
    "fig: Convolutional NN\n",
    "<br/>\n",
    "\n",
    "<h2 align = 'center'>Lets get into the first ever NN for our project.</h2>\n"
   ]
  },
  {
   "cell_type": "markdown",
   "metadata": {},
   "source": [
    "<h2 align = 'center'> What is CNN?</h2>\n",
    "It includes below layers:\n",
    "1. One input layer\n",
    "2. One output layer\n",
    "3. One or more convolutional layer\n",
    "4. One or more Max-pooling layer\n",
    "5. Some dropout layer\n",
    "6. One flatten layer\n",
    "7. One or more dense layer\n",
    "8. Some normalizing layers\n",
    "\n",
    "<b>Convolutional layer</b> is the layer where convolution operatiion happens. Convolution on here is same as on image processing. A filter of same row and column or square size is taken and multiplied across the window that fits filter. The element-wise product is done and summed all. We generally use stride, as how much pixel shift after doing one convolution. Also zero padding is done sometime to add zeros. The convolution layer gives number of filters with same properties. Here more the number of filter, more the accurate model can get but computational complexity increases.<br>\n",
    "<b>Max-Pooling layer</b> is a layer where we take only few pixels from previous layers. We must provide a pool size and then that pool size is used on input pixels. The pool window is moved over entire input and max value within the overlaped input is taken. For example, pool of size (2, 2) give half of input data.<br>\n",
    "<b> Dropout</b> is a layer which is actually used to avoid overfitting. This layer randomly cuts the connection between two neurons of different layers. For example, dropout of value 0.5 will cut the half of input's connection. Due to this effect, a NN couldn't memorize input sequence.<br>\n",
    "<b>Flatten layer</b> is one where multiple sized input is converted into 1d vector.<br>\n",
    "<b>Dense layer</b> on CNN is mostly used to do classification after doing whole convolution thing."
   ]
  },
  {
   "cell_type": "markdown",
   "metadata": {
    "collapsed": true
   },
   "source": [
    "\n",
    "<!--NAVIGATION-->\n",
    "< [Create Dataset](create_dataset.ipynb) | [Feedforward NN](fnn.ipynb) | [CNN0](cnn0\\cnn0.ipynb) | [CNN1](cnn1\\cnn1.ipynb) | [CNN2(Best)](cnn2\\cnn2.ipynb)>"
   ]
  },
  {
   "cell_type": "code",
   "execution_count": 3,
   "metadata": {},
   "outputs": [
    {
     "data": {
      "text/plain": [
       "5"
      ]
     },
     "execution_count": 3,
     "metadata": {},
     "output_type": "execute_result"
    }
   ],
   "source": [
    "np.max([4, 5, 1])"
   ]
  },
  {
   "cell_type": "code",
   "execution_count": null,
   "metadata": {},
   "outputs": [],
   "source": []
  }
 ],
 "metadata": {
  "kernelspec": {
   "display_name": "Python 3",
   "language": "python",
   "name": "python3"
  },
  "language_info": {
   "codemirror_mode": {
    "name": "ipython",
    "version": 3
   },
   "file_extension": ".py",
   "mimetype": "text/x-python",
   "name": "python",
   "nbconvert_exporter": "python",
   "pygments_lexer": "ipython3",
   "version": "3.7.4"
  },
  "latex_envs": {
   "LaTeX_envs_menu_present": true,
   "autoclose": false,
   "autocomplete": true,
   "bibliofile": "biblio.bib",
   "cite_by": "apalike",
   "current_citInitial": 1,
   "eqLabelWithNumbers": true,
   "eqNumInitial": 1,
   "hotkeys": {
    "equation": "Ctrl-E",
    "itemize": "Ctrl-I"
   },
   "labels_anchors": false,
   "latex_user_defs": false,
   "report_style_numbering": false,
   "user_envs_cfg": false
  },
  "nbTranslate": {
   "displayLangs": [
    "*"
   ],
   "hotkey": "alt-t",
   "langInMainMenu": true,
   "sourceLang": "en",
   "targetLang": "fr",
   "useGoogleTranslate": true
  },
  "toc": {
   "base_numbering": 1,
   "nav_menu": {},
   "number_sections": true,
   "sideBar": true,
   "skip_h1_title": false,
   "title_cell": "Table of Contents",
   "title_sidebar": "Contents",
   "toc_cell": false,
   "toc_position": {},
   "toc_section_display": true,
   "toc_window_display": false
  }
 },
 "nbformat": 4,
 "nbformat_minor": 2
}
